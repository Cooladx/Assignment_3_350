{
 "cells": [
  {
   "cell_type": "code",
   "execution_count": null,
   "id": "21f7c67a-ba23-49e4-8c01-6b091f17f734",
   "metadata": {},
   "outputs": [],
   "source": []
  }
 ],
 "metadata": {
  "kernelspec": {
   "display_name": "",
   "name": ""
  },
  "language_info": {
   "name": ""
  }
 },
 "nbformat": 4,
 "nbformat_minor": 5
}
