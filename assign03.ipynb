{
 "cells": [
  {
   "cell_type": "markdown",
   "id": "6298b990-4218-4b3f-9b79-18f61393ba8f",
   "metadata": {},
   "source": [
    "# Create an empty project in Neo4j desktop with an empty DB in the project, then start it.\n",
    "## Add the AAPOC and GDS plugins in your desktop Neo4j project."
   ]
  },
  {
   "cell_type": "markdown",
   "id": "594d3f75-aeb7-46a7-9696-519c16b495d0",
   "metadata": {},
   "source": [
    "## Imports for the project"
   ]
  },
  {
   "cell_type": "code",
   "execution_count": 13,
   "id": "caee03ef-021b-42c8-8367-ca7e0a22fdcb",
   "metadata": {},
   "outputs": [],
   "source": [
    "import pandas as pd\n",
    "import os"
   ]
  },
  {
   "cell_type": "code",
   "execution_count": 14,
   "id": "1a2ed793-6578-404e-8cf5-6f0940923d3a",
   "metadata": {},
   "outputs": [],
   "source": [
    "from neo4j import GraphDatabase"
   ]
  },
  {
   "cell_type": "code",
   "execution_count": 15,
   "id": "c9bbaf0c-3c6e-447a-938a-c7c740f337a3",
   "metadata": {},
   "outputs": [],
   "source": [
    "from graphdatascience import GraphDataScience"
   ]
  },
  {
   "cell_type": "markdown",
   "id": "cf7d1fbe-cb0c-4ba1-8a49-fca159a05acf",
   "metadata": {},
   "source": [
    "### Make an instance of the Neo4j driver and an instance of GraphDataScience"
   ]
  },
  {
   "cell_type": "code",
   "execution_count": 16,
   "id": "232823dd-82aa-4612-9842-6b7681d8cd3c",
   "metadata": {},
   "outputs": [],
   "source": [
    "NEO4J_URI = os.environ.get(\"NEO4J_URI\", \"bolt://localhost:7690\")"
   ]
  },
  {
   "cell_type": "code",
   "execution_count": 17,
   "id": "bdd7e4a0-9dd8-4f19-954e-a6af9cf6d2b2",
   "metadata": {},
   "outputs": [],
   "source": [
    "NEO4J_AUTH = ( \"neo4j\",  \"PASSWORD!\")"
   ]
  },
  {
   "cell_type": "code",
   "execution_count": 18,
   "id": "9c093ccd-85a7-46ef-b715-0fbf9c291702",
   "metadata": {},
   "outputs": [],
   "source": [
    "driver = GraphDatabase.driver(NEO4J_URI, auth=NEO4J_AUTH)"
   ]
  },
  {
   "cell_type": "code",
   "execution_count": 19,
   "id": "d12410fa-cb0e-4d88-b3e0-66f0d9c9dc73",
   "metadata": {},
   "outputs": [],
   "source": [
    "gds = GraphDataScience(NEO4J_URI, auth=NEO4J_AUTH)"
   ]
  },
  {
   "cell_type": "code",
   "execution_count": 20,
   "id": "75a738df-cf4d-4645-963d-dee79b2da378",
   "metadata": {},
   "outputs": [
    {
     "name": "stdout",
     "output_type": "stream",
     "text": [
      "1\n",
      "2.9.0\n"
     ]
    }
   ],
   "source": [
    "# Test Neo4j connection\n",
    "with driver.session() as session:\n",
    "    result = session.run(\"RETURN 1\")\n",
    "    print(result.single()[0])  # Should print '1'\n",
    "\n",
    "# Output GDS version\n",
    "print(gds.version())"
   ]
  },
  {
   "cell_type": "code",
   "execution_count": null,
   "id": "7c34e398-b277-42e7-b57a-6f3410165d07",
   "metadata": {},
   "outputs": [],
   "source": []
  },
  {
   "cell_type": "code",
   "execution_count": null,
   "id": "f29aa75b-999a-41f7-80b0-7e9278594ee9",
   "metadata": {},
   "outputs": [],
   "source": []
  }
 ],
 "metadata": {
  "kernelspec": {
   "display_name": "Python 3 (ipykernel)",
   "language": "python",
   "name": "python3"
  },
  "language_info": {
   "codemirror_mode": {
    "name": "ipython",
    "version": 3
   },
   "file_extension": ".py",
   "mimetype": "text/x-python",
   "name": "python",
   "nbconvert_exporter": "python",
   "pygments_lexer": "ipython3",
   "version": "3.12.7"
  }
 },
 "nbformat": 4,
 "nbformat_minor": 5
}
