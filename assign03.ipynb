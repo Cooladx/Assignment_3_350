{
 "cells": [
  {
   "cell_type": "markdown",
   "id": "6298b990-4218-4b3f-9b79-18f61393ba8f",
   "metadata": {},
   "source": [
    "# Create an empty project in Neo4j desktop with an empty DB in the project, then start it.\n",
    "## Add the AAPOC and GDS plugins in your desktop Neo4j project."
   ]
  },
  {
   "cell_type": "markdown",
   "id": "594d3f75-aeb7-46a7-9696-519c16b495d0",
   "metadata": {},
   "source": [
    "## Steps 1-4 | be sure to change PORT for URI and PASSWORD for AUTH!"
   ]
  },
  {
   "cell_type": "code",
   "execution_count": 3,
   "id": "caee03ef-021b-42c8-8367-ca7e0a22fdcb",
   "metadata": {},
   "outputs": [],
   "source": [
    "import pandas as pd"
   ]
  },
  {
   "cell_type": "code",
   "execution_count": 4,
   "id": "1a2ed793-6578-404e-8cf5-6f0940923d3a",
   "metadata": {},
   "outputs": [],
   "source": [
    "from neo4j import GraphDatabase"
   ]
  },
  {
   "cell_type": "code",
   "execution_count": 5,
   "id": "232823dd-82aa-4612-9842-6b7681d8cd3c",
   "metadata": {},
   "outputs": [],
   "source": [
    "NEO4J_URI = \"bolt://localhost:7687\""
   ]
  },
  {
   "cell_type": "code",
   "execution_count": 6,
   "id": "bdd7e4a0-9dd8-4f19-954e-a6af9cf6d2b2",
   "metadata": {},
   "outputs": [],
   "source": [
    "NEO4J_AUTH = ( \"neo4j\",  \"Penguin23\")"
   ]
  },
  {
   "cell_type": "code",
   "execution_count": 7,
   "id": "9c093ccd-85a7-46ef-b715-0fbf9c291702",
   "metadata": {},
   "outputs": [],
   "source": [
    "driver = GraphDatabase.driver(NEO4J_URI, auth=NEO4J_AUTH)"
   ]
  },
  {
   "cell_type": "markdown",
   "id": "5bb2866a",
   "metadata": {},
   "source": [
    "## Step 5: SHARED_PII relationship"
   ]
  },
  {
   "cell_type": "code",
   "execution_count": 8,
   "id": "2b6070b7",
   "metadata": {},
   "outputs": [],
   "source": [
    "query = \"\"\"\n",
    "MATCH ( c:Client )-[ :HAS_EMAIL |:HAS_PHONE |:HAS_SSN ] -> (n) <- [ :HAS_EMAIL |:HAS_PHONE |:HAS_SSN ]- ( d:Client )\n",
    "WHERE id(c) < id(d)\n",
    "WITH c, d, count(*) AS cnt\n",
    "MERGE (c) - [ :SHARED_PII { count: cnt } ] -> (d)\n",
    "\"\"\""
   ]
  },
  {
   "cell_type": "code",
   "execution_count": 9,
   "id": "56c236ab",
   "metadata": {},
   "outputs": [
    {
     "name": "stderr",
     "output_type": "stream",
     "text": [
      "Received notification from DBMS server: {severity: WARNING} {code: Neo.ClientNotification.Statement.FeatureDeprecationWarning} {category: DEPRECATION} {title: This feature is deprecated and will be removed in future versions.} {description: The semantics of using colon in the separation of alternative relationship types will change in a future version. (Please use ':HAS_EMAIL|HAS_PHONE|HAS_SSN' instead)} {position: line: 2, column: 45, offset: 45} for query: '\\nMATCH ( c:Client )-[ :HAS_EMAIL |:HAS_PHONE |:HAS_SSN ] -> (n) <- [ :HAS_EMAIL |:HAS_PHONE |:HAS_SSN ]- ( d:Client )\\nWHERE id(c) < id(d)\\nWITH c, d, count(*) AS cnt\\nMERGE (c) - [ :SHARED_PII { count: cnt } ] -> (d)\\n'\n",
      "Received notification from DBMS server: {severity: WARNING} {code: Neo.ClientNotification.Statement.FeatureDeprecationWarning} {category: DEPRECATION} {title: This feature is deprecated and will be removed in future versions.} {description: The semantics of using colon in the separation of alternative relationship types will change in a future version. (Please use ':HAS_EMAIL|HAS_PHONE|HAS_SSN' instead)} {position: line: 2, column: 92, offset: 92} for query: '\\nMATCH ( c:Client )-[ :HAS_EMAIL |:HAS_PHONE |:HAS_SSN ] -> (n) <- [ :HAS_EMAIL |:HAS_PHONE |:HAS_SSN ]- ( d:Client )\\nWHERE id(c) < id(d)\\nWITH c, d, count(*) AS cnt\\nMERGE (c) - [ :SHARED_PII { count: cnt } ] -> (d)\\n'\n",
      "Received notification from DBMS server: {severity: WARNING} {code: Neo.ClientNotification.Statement.FeatureDeprecationWarning} {category: DEPRECATION} {title: This feature is deprecated and will be removed in future versions.} {description: The query used a deprecated function: `id`.} {position: line: 3, column: 7, offset: 124} for query: '\\nMATCH ( c:Client )-[ :HAS_EMAIL |:HAS_PHONE |:HAS_SSN ] -> (n) <- [ :HAS_EMAIL |:HAS_PHONE |:HAS_SSN ]- ( d:Client )\\nWHERE id(c) < id(d)\\nWITH c, d, count(*) AS cnt\\nMERGE (c) - [ :SHARED_PII { count: cnt } ] -> (d)\\n'\n",
      "Received notification from DBMS server: {severity: WARNING} {code: Neo.ClientNotification.Statement.FeatureDeprecationWarning} {category: DEPRECATION} {title: This feature is deprecated and will be removed in future versions.} {description: The query used a deprecated function: `id`.} {position: line: 3, column: 15, offset: 132} for query: '\\nMATCH ( c:Client )-[ :HAS_EMAIL |:HAS_PHONE |:HAS_SSN ] -> (n) <- [ :HAS_EMAIL |:HAS_PHONE |:HAS_SSN ]- ( d:Client )\\nWHERE id(c) < id(d)\\nWITH c, d, count(*) AS cnt\\nMERGE (c) - [ :SHARED_PII { count: cnt } ] -> (d)\\n'\n"
     ]
    },
    {
     "data": {
      "text/plain": [
       "EagerResult(records=[], summary=<neo4j._work.summary.ResultSummary object at 0x00000261B6C38CB0>, keys=[])"
      ]
     },
     "execution_count": 9,
     "metadata": {},
     "output_type": "execute_result"
    }
   ],
   "source": [
    "driver.execute_query(query)"
   ]
  },
  {
   "cell_type": "markdown",
   "id": "c2598063",
   "metadata": {},
   "source": [
    "## Step 6: clientClusters projection\n"
   ]
  },
  {
   "cell_type": "code",
   "execution_count": 10,
   "id": "a656e8f6",
   "metadata": {},
   "outputs": [],
   "source": [
    "query2 = \"\"\"\n",
    "CALL gds.graph.project('clientClusters' , { \n",
    "    Client: {\n",
    "        label: 'Client' \n",
    "    }\n",
    "}, { \n",
    "    SHARED_PII: {\n",
    "        type: 'SHARED_PII',\n",
    "        orientation: 'UNDIRECTED',\n",
    "        properties: {\n",
    "            count: {\n",
    "                property: 'count' \n",
    "            }\n",
    "        }\n",
    "    }\n",
    "}\n",
    ")\n",
    "YIELD graphName, nodeCount, relationshipCount\n",
    "\"\"\"\n"
   ]
  },
  {
   "cell_type": "code",
   "execution_count": 11,
   "id": "541bec7a",
   "metadata": {},
   "outputs": [
    {
     "ename": "ClientError",
     "evalue": "{code: Neo.ClientError.Procedure.ProcedureCallFailed} {message: Failed to invoke procedure `gds.graph.project`: Caused by: java.lang.IllegalArgumentException: A graph with name 'clientClusters' already exists.}",
     "output_type": "error",
     "traceback": [
      "\u001b[1;31m---------------------------------------------------------------------------\u001b[0m",
      "\u001b[1;31mClientError\u001b[0m                               Traceback (most recent call last)",
      "Cell \u001b[1;32mIn[11], line 1\u001b[0m\n\u001b[1;32m----> 1\u001b[0m driver\u001b[38;5;241m.\u001b[39mexecute_query(query2)\n",
      "File \u001b[1;32m~\\AppData\\Roaming\\Python\\Python312\\site-packages\\neo4j\\_sync\\driver.py:969\u001b[0m, in \u001b[0;36mDriver.execute_query\u001b[1;34m(self, query_, parameters_, routing_, database_, impersonated_user_, bookmark_manager_, auth_, result_transformer_, **kwargs)\u001b[0m\n\u001b[0;32m    965\u001b[0m     \u001b[38;5;28;01mraise\u001b[39;00m \u001b[38;5;167;01mValueError\u001b[39;00m(\n\u001b[0;32m    966\u001b[0m         \u001b[38;5;124mf\u001b[39m\u001b[38;5;124m\"\u001b[39m\u001b[38;5;124mInvalid routing control value: \u001b[39m\u001b[38;5;132;01m{\u001b[39;00mrouting_\u001b[38;5;132;01m!r}\u001b[39;00m\u001b[38;5;124m\"\u001b[39m\n\u001b[0;32m    967\u001b[0m     )\n\u001b[0;32m    968\u001b[0m \u001b[38;5;28;01mwith\u001b[39;00m session\u001b[38;5;241m.\u001b[39m_pipelined_begin:\n\u001b[1;32m--> 969\u001b[0m     \u001b[38;5;28;01mreturn\u001b[39;00m session\u001b[38;5;241m.\u001b[39m_run_transaction(\n\u001b[0;32m    970\u001b[0m         access_mode,\n\u001b[0;32m    971\u001b[0m         TelemetryAPI\u001b[38;5;241m.\u001b[39mDRIVER,\n\u001b[0;32m    972\u001b[0m         work,\n\u001b[0;32m    973\u001b[0m         (query_str, parameters, result_transformer_),\n\u001b[0;32m    974\u001b[0m         {},\n\u001b[0;32m    975\u001b[0m     )\n",
      "File \u001b[1;32m~\\AppData\\Roaming\\Python\\Python312\\site-packages\\neo4j\\_sync\\work\\session.py:581\u001b[0m, in \u001b[0;36mSession._run_transaction\u001b[1;34m(self, access_mode, api, transaction_function, args, kwargs)\u001b[0m\n\u001b[0;32m    579\u001b[0m tx \u001b[38;5;241m=\u001b[39m \u001b[38;5;28mself\u001b[39m\u001b[38;5;241m.\u001b[39m_transaction\n\u001b[0;32m    580\u001b[0m \u001b[38;5;28;01mtry\u001b[39;00m:\n\u001b[1;32m--> 581\u001b[0m     result \u001b[38;5;241m=\u001b[39m transaction_function(tx, \u001b[38;5;241m*\u001b[39margs, \u001b[38;5;241m*\u001b[39m\u001b[38;5;241m*\u001b[39mkwargs)\n\u001b[0;32m    582\u001b[0m \u001b[38;5;28;01mexcept\u001b[39;00m asyncio\u001b[38;5;241m.\u001b[39mCancelledError:\n\u001b[0;32m    583\u001b[0m     \u001b[38;5;66;03m# if cancellation callback has not been called yet:\u001b[39;00m\n\u001b[0;32m    584\u001b[0m     \u001b[38;5;28;01mif\u001b[39;00m \u001b[38;5;28mself\u001b[39m\u001b[38;5;241m.\u001b[39m_transaction \u001b[38;5;129;01mis\u001b[39;00m \u001b[38;5;129;01mnot\u001b[39;00m \u001b[38;5;28;01mNone\u001b[39;00m:\n",
      "File \u001b[1;32m~\\AppData\\Roaming\\Python\\Python312\\site-packages\\neo4j\\_sync\\driver.py:1306\u001b[0m, in \u001b[0;36m_work\u001b[1;34m(tx, query, parameters, transformer)\u001b[0m\n\u001b[0;32m   1299\u001b[0m \u001b[38;5;28;01mdef\u001b[39;00m \u001b[38;5;21m_work\u001b[39m(\n\u001b[0;32m   1300\u001b[0m     tx: ManagedTransaction,\n\u001b[0;32m   1301\u001b[0m     query: te\u001b[38;5;241m.\u001b[39mLiteralString,\n\u001b[0;32m   1302\u001b[0m     parameters: \u001b[38;5;28mdict\u001b[39m[\u001b[38;5;28mstr\u001b[39m, t\u001b[38;5;241m.\u001b[39mAny],\n\u001b[0;32m   1303\u001b[0m     transformer: t\u001b[38;5;241m.\u001b[39mCallable[[Result], t\u001b[38;5;241m.\u001b[39mUnion[_T]],\n\u001b[0;32m   1304\u001b[0m ) \u001b[38;5;241m-\u001b[39m\u001b[38;5;241m>\u001b[39m _T:\n\u001b[0;32m   1305\u001b[0m     res \u001b[38;5;241m=\u001b[39m tx\u001b[38;5;241m.\u001b[39mrun(query, parameters)\n\u001b[1;32m-> 1306\u001b[0m     \u001b[38;5;28;01mreturn\u001b[39;00m transformer(res)\n",
      "File \u001b[1;32m~\\AppData\\Roaming\\Python\\Python312\\site-packages\\neo4j\\_sync\\work\\result.py:797\u001b[0m, in \u001b[0;36mResult.to_eager_result\u001b[1;34m(self)\u001b[0m\n\u001b[0;32m    779\u001b[0m \u001b[38;5;129m@NonConcurrentMethodChecker\u001b[39m\u001b[38;5;241m.\u001b[39m_non_concurrent_method\n\u001b[0;32m    780\u001b[0m \u001b[38;5;28;01mdef\u001b[39;00m \u001b[38;5;21mto_eager_result\u001b[39m(\u001b[38;5;28mself\u001b[39m) \u001b[38;5;241m-\u001b[39m\u001b[38;5;241m>\u001b[39m EagerResult:\n\u001b[0;32m    781\u001b[0m \u001b[38;5;250m    \u001b[39m\u001b[38;5;124;03m\"\"\"\u001b[39;00m\n\u001b[0;32m    782\u001b[0m \u001b[38;5;124;03m    Convert this result to an :class:`.EagerResult`.\u001b[39;00m\n\u001b[0;32m    783\u001b[0m \n\u001b[1;32m   (...)\u001b[0m\n\u001b[0;32m    795\u001b[0m \u001b[38;5;124;03m    .. versionchanged:: 5.8 Stabilized from experimental.\u001b[39;00m\n\u001b[0;32m    796\u001b[0m \u001b[38;5;124;03m    \"\"\"\u001b[39;00m\n\u001b[1;32m--> 797\u001b[0m     \u001b[38;5;28mself\u001b[39m\u001b[38;5;241m.\u001b[39m_buffer_all()\n\u001b[0;32m    798\u001b[0m     \u001b[38;5;28;01mreturn\u001b[39;00m EagerResult(\n\u001b[0;32m    799\u001b[0m         keys\u001b[38;5;241m=\u001b[39m\u001b[38;5;28mlist\u001b[39m(\u001b[38;5;28mself\u001b[39m\u001b[38;5;241m.\u001b[39mkeys()),\n\u001b[0;32m    800\u001b[0m         records\u001b[38;5;241m=\u001b[39mUtil\u001b[38;5;241m.\u001b[39mlist(\u001b[38;5;28mself\u001b[39m),\n\u001b[0;32m    801\u001b[0m         summary\u001b[38;5;241m=\u001b[39m\u001b[38;5;28mself\u001b[39m\u001b[38;5;241m.\u001b[39mconsume(),\n\u001b[0;32m    802\u001b[0m     )\n",
      "File \u001b[1;32m~\\AppData\\Roaming\\Python\\Python312\\site-packages\\neo4j\\_sync\\work\\result.py:454\u001b[0m, in \u001b[0;36mResult._buffer_all\u001b[1;34m(self)\u001b[0m\n\u001b[0;32m    453\u001b[0m \u001b[38;5;28;01mdef\u001b[39;00m \u001b[38;5;21m_buffer_all\u001b[39m(\u001b[38;5;28mself\u001b[39m):\n\u001b[1;32m--> 454\u001b[0m     \u001b[38;5;28mself\u001b[39m\u001b[38;5;241m.\u001b[39m_buffer()\n",
      "File \u001b[1;32m~\\AppData\\Roaming\\Python\\Python312\\site-packages\\neo4j\\_sync\\work\\result.py:443\u001b[0m, in \u001b[0;36mResult._buffer\u001b[1;34m(self, n)\u001b[0m\n\u001b[0;32m    441\u001b[0m     \u001b[38;5;28;01mreturn\u001b[39;00m\n\u001b[0;32m    442\u001b[0m record_buffer \u001b[38;5;241m=\u001b[39m deque()\n\u001b[1;32m--> 443\u001b[0m \u001b[38;5;28;01mfor\u001b[39;00m record \u001b[38;5;129;01min\u001b[39;00m \u001b[38;5;28mself\u001b[39m:\n\u001b[0;32m    444\u001b[0m     record_buffer\u001b[38;5;241m.\u001b[39mappend(record)\n\u001b[0;32m    445\u001b[0m     \u001b[38;5;28;01mif\u001b[39;00m n \u001b[38;5;129;01mis\u001b[39;00m \u001b[38;5;129;01mnot\u001b[39;00m \u001b[38;5;28;01mNone\u001b[39;00m \u001b[38;5;129;01mand\u001b[39;00m \u001b[38;5;28mlen\u001b[39m(record_buffer) \u001b[38;5;241m>\u001b[39m\u001b[38;5;241m=\u001b[39m n:\n",
      "File \u001b[1;32m~\\AppData\\Roaming\\Python\\Python312\\site-packages\\neo4j\\_sync\\work\\result.py:393\u001b[0m, in \u001b[0;36mResult.__iter__\u001b[1;34m(self)\u001b[0m\n\u001b[0;32m    391\u001b[0m     \u001b[38;5;28;01myield\u001b[39;00m \u001b[38;5;28mself\u001b[39m\u001b[38;5;241m.\u001b[39m_record_buffer\u001b[38;5;241m.\u001b[39mpopleft()\n\u001b[0;32m    392\u001b[0m \u001b[38;5;28;01melif\u001b[39;00m \u001b[38;5;28mself\u001b[39m\u001b[38;5;241m.\u001b[39m_streaming:\n\u001b[1;32m--> 393\u001b[0m     \u001b[38;5;28mself\u001b[39m\u001b[38;5;241m.\u001b[39m_connection\u001b[38;5;241m.\u001b[39mfetch_message()\n\u001b[0;32m    394\u001b[0m \u001b[38;5;28;01melif\u001b[39;00m \u001b[38;5;28mself\u001b[39m\u001b[38;5;241m.\u001b[39m_discarding:\n\u001b[0;32m    395\u001b[0m     \u001b[38;5;28mself\u001b[39m\u001b[38;5;241m.\u001b[39m_discard()\n",
      "File \u001b[1;32m~\\AppData\\Roaming\\Python\\Python312\\site-packages\\neo4j\\_sync\\io\\_common.py:184\u001b[0m, in \u001b[0;36mConnectionErrorHandler.__getattr__.<locals>.outer.<locals>.inner\u001b[1;34m(*args, **kwargs)\u001b[0m\n\u001b[0;32m    182\u001b[0m \u001b[38;5;28;01mdef\u001b[39;00m \u001b[38;5;21minner\u001b[39m(\u001b[38;5;241m*\u001b[39margs, \u001b[38;5;241m*\u001b[39m\u001b[38;5;241m*\u001b[39mkwargs):\n\u001b[0;32m    183\u001b[0m     \u001b[38;5;28;01mtry\u001b[39;00m:\n\u001b[1;32m--> 184\u001b[0m         func(\u001b[38;5;241m*\u001b[39margs, \u001b[38;5;241m*\u001b[39m\u001b[38;5;241m*\u001b[39mkwargs)\n\u001b[0;32m    185\u001b[0m     \u001b[38;5;28;01mexcept\u001b[39;00m (Neo4jError, ServiceUnavailable, SessionExpired) \u001b[38;5;28;01mas\u001b[39;00m exc:\n\u001b[0;32m    186\u001b[0m         \u001b[38;5;28;01massert\u001b[39;00m \u001b[38;5;129;01mnot\u001b[39;00m asyncio\u001b[38;5;241m.\u001b[39miscoroutinefunction(\u001b[38;5;28mself\u001b[39m\u001b[38;5;241m.\u001b[39m__on_error)\n",
      "File \u001b[1;32m~\\AppData\\Roaming\\Python\\Python312\\site-packages\\neo4j\\_sync\\io\\_bolt.py:994\u001b[0m, in \u001b[0;36mBolt.fetch_message\u001b[1;34m(self)\u001b[0m\n\u001b[0;32m    990\u001b[0m \u001b[38;5;66;03m# Receive exactly one message\u001b[39;00m\n\u001b[0;32m    991\u001b[0m tag, fields \u001b[38;5;241m=\u001b[39m \u001b[38;5;28mself\u001b[39m\u001b[38;5;241m.\u001b[39minbox\u001b[38;5;241m.\u001b[39mpop(\n\u001b[0;32m    992\u001b[0m     hydration_hooks\u001b[38;5;241m=\u001b[39m\u001b[38;5;28mself\u001b[39m\u001b[38;5;241m.\u001b[39mresponses[\u001b[38;5;241m0\u001b[39m]\u001b[38;5;241m.\u001b[39mhydration_hooks\n\u001b[0;32m    993\u001b[0m )\n\u001b[1;32m--> 994\u001b[0m res \u001b[38;5;241m=\u001b[39m \u001b[38;5;28mself\u001b[39m\u001b[38;5;241m.\u001b[39m_process_message(tag, fields)\n\u001b[0;32m    995\u001b[0m \u001b[38;5;28mself\u001b[39m\u001b[38;5;241m.\u001b[39midle_since \u001b[38;5;241m=\u001b[39m monotonic()\n\u001b[0;32m    996\u001b[0m \u001b[38;5;28;01mreturn\u001b[39;00m res\n",
      "File \u001b[1;32m~\\AppData\\Roaming\\Python\\Python312\\site-packages\\neo4j\\_sync\\io\\_bolt5.py:496\u001b[0m, in \u001b[0;36mBolt5x0._process_message\u001b[1;34m(self, tag, fields)\u001b[0m\n\u001b[0;32m    494\u001b[0m \u001b[38;5;28mself\u001b[39m\u001b[38;5;241m.\u001b[39m_server_state_manager\u001b[38;5;241m.\u001b[39mstate \u001b[38;5;241m=\u001b[39m \u001b[38;5;28mself\u001b[39m\u001b[38;5;241m.\u001b[39mbolt_states\u001b[38;5;241m.\u001b[39mFAILED\n\u001b[0;32m    495\u001b[0m \u001b[38;5;28;01mtry\u001b[39;00m:\n\u001b[1;32m--> 496\u001b[0m     response\u001b[38;5;241m.\u001b[39mon_failure(summary_metadata \u001b[38;5;129;01mor\u001b[39;00m {})\n\u001b[0;32m    497\u001b[0m \u001b[38;5;28;01mexcept\u001b[39;00m (ServiceUnavailable, DatabaseUnavailable):\n\u001b[0;32m    498\u001b[0m     \u001b[38;5;28;01mif\u001b[39;00m \u001b[38;5;28mself\u001b[39m\u001b[38;5;241m.\u001b[39mpool:\n",
      "File \u001b[1;32m~\\AppData\\Roaming\\Python\\Python312\\site-packages\\neo4j\\_sync\\io\\_common.py:254\u001b[0m, in \u001b[0;36mResponse.on_failure\u001b[1;34m(self, metadata)\u001b[0m\n\u001b[0;32m    252\u001b[0m handler \u001b[38;5;241m=\u001b[39m \u001b[38;5;28mself\u001b[39m\u001b[38;5;241m.\u001b[39mhandlers\u001b[38;5;241m.\u001b[39mget(\u001b[38;5;124m\"\u001b[39m\u001b[38;5;124mon_summary\u001b[39m\u001b[38;5;124m\"\u001b[39m)\n\u001b[0;32m    253\u001b[0m Util\u001b[38;5;241m.\u001b[39mcallback(handler)\n\u001b[1;32m--> 254\u001b[0m \u001b[38;5;28;01mraise\u001b[39;00m \u001b[38;5;28mself\u001b[39m\u001b[38;5;241m.\u001b[39m_hydrate_error(metadata)\n",
      "\u001b[1;31mClientError\u001b[0m: {code: Neo.ClientError.Procedure.ProcedureCallFailed} {message: Failed to invoke procedure `gds.graph.project`: Caused by: java.lang.IllegalArgumentException: A graph with name 'clientClusters' already exists.}"
     ]
    }
   ],
   "source": [
    "driver.execute_query(query2)"
   ]
  },
  {
   "cell_type": "markdown",
   "id": "6ffb9c9d",
   "metadata": {},
   "source": [
    "## Step 7: Identify clusters"
   ]
  },
  {
   "cell_type": "code",
   "execution_count": 48,
   "id": "5ad90590",
   "metadata": {},
   "outputs": [],
   "source": [
    "def run_wcc_query(driver):\n",
    "    query3 = \"\"\"\n",
    "    CALL gds.wcc.stream(\n",
    "      'clientClusters', \n",
    "      {\n",
    "        nodeLabels: ['Client'], \n",
    "        relationshipTypes: ['SHARED_PII'], \n",
    "        consecutiveIds: true\n",
    "      }\n",
    "    )\n",
    "    YIELD nodeId, componentId \n",
    "    RETURN gds.util.asNode(nodeId).id AS clientId,\n",
    "    componentId AS clusterId\"\"\"\n",
    "\n",
    "    with driver.session() as session:\n",
    "        result = session.run(query3)\n",
    "\n",
    "        records = result.data() \n",
    "        df = pd.DataFrame(records)\n",
    "\n",
    "    return df\n",
    "    "
   ]
  },
  {
   "cell_type": "code",
   "execution_count": 49,
   "id": "227747ab",
   "metadata": {},
   "outputs": [],
   "source": [
    "pd_df = run_wcc_query(driver)"
   ]
  },
  {
   "cell_type": "code",
   "execution_count": 50,
   "id": "d215b1da",
   "metadata": {},
   "outputs": [],
   "source": [
    "pd.set_option('display.max_columns', 2)"
   ]
  },
  {
   "cell_type": "code",
   "execution_count": 51,
   "id": "4088fb33",
   "metadata": {},
   "outputs": [
    {
     "data": {
      "text/html": [
       "<div>\n",
       "<style scoped>\n",
       "    .dataframe tbody tr th:only-of-type {\n",
       "        vertical-align: middle;\n",
       "    }\n",
       "\n",
       "    .dataframe tbody tr th {\n",
       "        vertical-align: top;\n",
       "    }\n",
       "\n",
       "    .dataframe thead th {\n",
       "        text-align: right;\n",
       "    }\n",
       "</style>\n",
       "<table border=\"1\" class=\"dataframe\">\n",
       "  <thead>\n",
       "    <tr style=\"text-align: right;\">\n",
       "      <th></th>\n",
       "      <th>clientId</th>\n",
       "      <th>clusterId</th>\n",
       "    </tr>\n",
       "  </thead>\n",
       "  <tbody>\n",
       "    <tr>\n",
       "      <th>0</th>\n",
       "      <td>4997933060327094</td>\n",
       "      <td>0</td>\n",
       "    </tr>\n",
       "    <tr>\n",
       "      <th>1</th>\n",
       "      <td>4776276949898423</td>\n",
       "      <td>1</td>\n",
       "    </tr>\n",
       "    <tr>\n",
       "      <th>2</th>\n",
       "      <td>4858607188760216</td>\n",
       "      <td>2</td>\n",
       "    </tr>\n",
       "    <tr>\n",
       "      <th>3</th>\n",
       "      <td>4287186486553145</td>\n",
       "      <td>3</td>\n",
       "    </tr>\n",
       "    <tr>\n",
       "      <th>4</th>\n",
       "      <td>4661202154682409</td>\n",
       "      <td>4</td>\n",
       "    </tr>\n",
       "    <tr>\n",
       "      <th>...</th>\n",
       "      <td>...</td>\n",
       "      <td>...</td>\n",
       "    </tr>\n",
       "    <tr>\n",
       "      <th>2428</th>\n",
       "      <td>4413385955087620</td>\n",
       "      <td>1767</td>\n",
       "    </tr>\n",
       "    <tr>\n",
       "      <th>2429</th>\n",
       "      <td>4550448544478545</td>\n",
       "      <td>1862</td>\n",
       "    </tr>\n",
       "    <tr>\n",
       "      <th>2430</th>\n",
       "      <td>4114683318919154</td>\n",
       "      <td>334</td>\n",
       "    </tr>\n",
       "    <tr>\n",
       "      <th>2431</th>\n",
       "      <td>4172817689754167</td>\n",
       "      <td>2113</td>\n",
       "    </tr>\n",
       "    <tr>\n",
       "      <th>2432</th>\n",
       "      <td>4210575070378533</td>\n",
       "      <td>2131</td>\n",
       "    </tr>\n",
       "  </tbody>\n",
       "</table>\n",
       "<p>2433 rows × 2 columns</p>\n",
       "</div>"
      ],
      "text/plain": [
       "              clientId  clusterId\n",
       "0     4997933060327094          0\n",
       "1     4776276949898423          1\n",
       "2     4858607188760216          2\n",
       "3     4287186486553145          3\n",
       "4     4661202154682409          4\n",
       "...                ...        ...\n",
       "2428  4413385955087620       1767\n",
       "2429  4550448544478545       1862\n",
       "2430  4114683318919154        334\n",
       "2431  4172817689754167       2113\n",
       "2432  4210575070378533       2131\n",
       "\n",
       "[2433 rows x 2 columns]"
      ]
     },
     "execution_count": 51,
     "metadata": {},
     "output_type": "execute_result"
    }
   ],
   "source": [
    "pd_df"
   ]
  },
  {
   "cell_type": "markdown",
   "id": "0860420a",
   "metadata": {},
   "source": [
    "## Step 8: Marking Clients"
   ]
  },
  {
   "cell_type": "code",
   "execution_count": 52,
   "id": "01cd569e",
   "metadata": {},
   "outputs": [],
   "source": [
    "\n",
    "query4 = \"\"\"\n",
    "    CALL gds.wcc.stream(\n",
    "      'clientClusters', \n",
    "      {\n",
    "        nodeLabels: ['Client'], \n",
    "        relationshipTypes: ['SHARED_PII'], \n",
    "        consecutiveIds: true\n",
    "      }\n",
    "    )\n",
    "    YIELD nodeId, componentId\n",
    "    WITH gds.util.asNode(nodeId) AS client, componentId AS clusterId\n",
    "    WITH clusterId, collect(client.id) AS clients\n",
    "    WITH clusterId, clients, size(clients) AS clusterSize \n",
    "    WHERE clusterSize >= 2\n",
    "    UNWIND clients AS client\n",
    "    MATCH (c:Client {id: client})  // Assuming 'id' property here matches\n",
    "    SET c.secondPartyFraudRing = clusterId\n",
    "    \"\"\"\n"
   ]
  },
  {
   "cell_type": "code",
   "execution_count": 53,
   "id": "c7bc08ea",
   "metadata": {},
   "outputs": [
    {
     "data": {
      "text/plain": [
       "EagerResult(records=[], summary=<neo4j._work.summary.ResultSummary object at 0x000002057DAB2A50>, keys=[])"
      ]
     },
     "execution_count": 53,
     "metadata": {},
     "output_type": "execute_result"
    }
   ],
   "source": [
    "driver.execute_query(query4)"
   ]
  },
  {
   "cell_type": "markdown",
   "id": "dec16f68",
   "metadata": {},
   "source": [
    "## Step 9: Bipartite Graph"
   ]
  },
  {
   "cell_type": "code",
   "execution_count": 54,
   "id": "3278e8ef",
   "metadata": {},
   "outputs": [],
   "source": [
    "query5 = \"\"\"\n",
    "// first, find clients\n",
    "MATCH (c:Client) WHERE c.secondPartyFraudRing is NOT NULL\n",
    "WITH collect(c) as clients\n",
    "\n",
    "// second, find the PII nodes\n",
    "MATCH (n) WHERE n:Email OR n:Phone OR n:SSN\n",
    "\n",
    "// combine the two sets of nodes\n",
    "WITH clients, collect(n) AS piis\n",
    "WITH clients + piis AS nodes\n",
    "\n",
    "// use only the clients that belong to a cluster of size >= 2\n",
    "// as per STEP 8\n",
    "MATCH (c:Client) -[:HAS_EMAIL | :HAS_PHONE | :HAS_SSN]->(p)\n",
    "WHERE c.secondPartyFraudRing is NOT NULL\n",
    "\n",
    "// now make the bipartite graph,\n",
    "// with a new relationship named HAS_PII\n",
    "WITH nodes, collect({source: c, target: p}) as relationships\n",
    "\n",
    "// use a Cypher projection\n",
    "// not the usual native projection\n",
    "CALL gds.graph.project.cypher(\n",
    "'similarity',\n",
    "\"UNWIND $nodes as n\n",
    "RETURN id(n) AS id,labels(n) AS labels\",\n",
    "\"UNWIND $relationships as r\n",
    "RETURN id(r['source']) AS source, id(r['target']) AS target,\n",
    "'HAS_PII' as type\",\n",
    "{ parameters:\n",
    "{ nodes: nodes,\n",
    "relationships: relationships }\n",
    "}\n",
    ")\n",
    "YIELD graphName, nodeCount, relationshipCount\n",
    "RETURN graphName, nodeCount, relationshipCount\n",
    "\"\"\""
   ]
  },
  {
   "cell_type": "code",
   "execution_count": 55,
   "id": "385a4d5d",
   "metadata": {},
   "outputs": [
    {
     "name": "stderr",
     "output_type": "stream",
     "text": [
      "Received notification from DBMS server: {severity: WARNING} {code: Neo.ClientNotification.Statement.FeatureDeprecationWarning} {category: DEPRECATION} {title: This feature is deprecated and will be removed in future versions.} {description: The semantics of using colon in the separation of alternative relationship types will change in a future version. (Please use ':HAS_EMAIL|HAS_PHONE|HAS_SSN' instead)} {position: line: 15, column: 44, offset: 403} for query: '\\n// first, find clients\\nMATCH (c:Client) WHERE c.secondPartyFraudRing is NOT NULL\\nWITH collect(c) as clients\\n\\n// second, find the PII nodes\\nMATCH (n) WHERE n:Email OR n:Phone OR n:SSN\\n\\n// combine the two sets of nodes\\nWITH clients, collect(n) AS piis\\nWITH clients + piis AS nodes\\n\\n// use only the clients that belong to a cluster of size >= 2\\n// as per STEP 8\\nMATCH (c:Client) -[:HAS_EMAIL | :HAS_PHONE | :HAS_SSN]->(p)\\nWHERE c.secondPartyFraudRing is NOT NULL\\n\\n// now make the bipartite graph,\\n// with a new relationship named HAS_PII\\nWITH nodes, collect({source: c, target: p}) as relationships\\n\\n// use a Cypher projection\\n// not the usual native projection\\nCALL gds.graph.project.cypher(\\n\\'similarity\\',\\n\"UNWIND $nodes as n\\nRETURN id(n) AS id,labels(n) AS labels\",\\n\"UNWIND $relationships as r\\nRETURN id(r[\\'source\\']) AS source, id(r[\\'target\\']) AS target,\\n\\'HAS_PII\\' as type\",\\n{ parameters:\\n{ nodes: nodes,\\nrelationships: relationships }\\n}\\n)\\nYIELD graphName, nodeCount, relationshipCount\\nRETURN graphName, nodeCount, relationshipCount\\n'\n",
      "Received notification from DBMS server: {severity: WARNING} {code: Neo.ClientNotification.Statement.FeatureDeprecationWarning} {category: DEPRECATION} {title: This feature is deprecated and will be removed in future versions.} {description: The query used a deprecated procedure. ('gds.graph.project.cypher' has been replaced by 'gds.graph.project Cypher projection as an aggregation function')} {position: line: 24, column: 1, offset: 660} for query: '\\n// first, find clients\\nMATCH (c:Client) WHERE c.secondPartyFraudRing is NOT NULL\\nWITH collect(c) as clients\\n\\n// second, find the PII nodes\\nMATCH (n) WHERE n:Email OR n:Phone OR n:SSN\\n\\n// combine the two sets of nodes\\nWITH clients, collect(n) AS piis\\nWITH clients + piis AS nodes\\n\\n// use only the clients that belong to a cluster of size >= 2\\n// as per STEP 8\\nMATCH (c:Client) -[:HAS_EMAIL | :HAS_PHONE | :HAS_SSN]->(p)\\nWHERE c.secondPartyFraudRing is NOT NULL\\n\\n// now make the bipartite graph,\\n// with a new relationship named HAS_PII\\nWITH nodes, collect({source: c, target: p}) as relationships\\n\\n// use a Cypher projection\\n// not the usual native projection\\nCALL gds.graph.project.cypher(\\n\\'similarity\\',\\n\"UNWIND $nodes as n\\nRETURN id(n) AS id,labels(n) AS labels\",\\n\"UNWIND $relationships as r\\nRETURN id(r[\\'source\\']) AS source, id(r[\\'target\\']) AS target,\\n\\'HAS_PII\\' as type\",\\n{ parameters:\\n{ nodes: nodes,\\nrelationships: relationships }\\n}\\n)\\nYIELD graphName, nodeCount, relationshipCount\\nRETURN graphName, nodeCount, relationshipCount\\n'\n"
     ]
    },
    {
     "data": {
      "text/plain": [
       "EagerResult(records=[<Record graphName='similarity' nodeCount=7037 relationshipCount=1008>], summary=<neo4j._work.summary.ResultSummary object at 0x000002057DAB1C40>, keys=['graphName', 'nodeCount', 'relationshipCount'])"
      ]
     },
     "execution_count": 55,
     "metadata": {},
     "output_type": "execute_result"
    }
   ],
   "source": [
    "driver.execute_query(query5)"
   ]
  },
  {
   "cell_type": "markdown",
   "id": "c444c128",
   "metadata": {},
   "source": [
    "## Step 10: Creating the SIMILAR_TO Relationship"
   ]
  },
  {
   "cell_type": "code",
   "execution_count": 56,
   "id": "bf62905c",
   "metadata": {},
   "outputs": [],
   "source": [
    "step10 = \"\"\"\n",
    "CALL gds.nodeSimilarity.mutate(\n",
    "  'similarity',\n",
    "  {\n",
    "      mutateProperty: 'jaccardScore',\n",
    "      mutateRelationshipType: 'SIMILAR_TO',\n",
    "      topK: 15\n",
    "  }\n",
    ")\n",
    "YIELD\n",
    "  preProcessingMillis,\n",
    "  computeMillis,\n",
    "  mutateMillis,\n",
    "  postProcessingMillis,\n",
    "  relationshipsWritten,\n",
    "  nodesCompared,\n",
    "  similarityDistribution,\n",
    "  configuration\n",
    "\"\"\""
   ]
  },
  {
   "cell_type": "code",
   "execution_count": 57,
   "id": "f6a61f36",
   "metadata": {},
   "outputs": [
    {
     "data": {
      "text/plain": [
       "EagerResult(records=[<Record preProcessingMillis=0 computeMillis=110 mutateMillis=173 postProcessingMillis=0 relationshipsWritten=1518 nodesCompared=336 similarityDistribution={'min': 0.19999980926513672, 'p5': 0.19999980926513672, 'max': 1.000007629394531, 'p99': 1.0000066757202148, 'p1': 0.19999980926513672, 'p10': 0.19999980926513672, 'p90': 0.5000028610229492, 'p50': 0.19999980926513672, 'p25': 0.19999980926513672, 'p75': 0.5000028610229492, 'p95': 1.0000066757202148, 'mean': 0.3347832789062983, 'p100': 1.0000066757202148, 'stdDev': 0.20693545125522303} configuration={'mutateProperty': 'jaccardScore', 'jobId': 'a74ba808-7748-469a-a56b-8fd4de6ef87b', 'topN': 0, 'upperDegreeCutoff': 2147483647, 'topK': 15, 'similarityCutoff': 1e-42, 'sudo': False, 'degreeCutoff': 1, 'useComponents': 'false', 'mutateRelationshipType': 'SIMILAR_TO', 'bottomN': 0, 'bottomK': 10, 'logProgress': True, 'nodeLabels': ['*'], 'concurrency': 4, 'relationshipTypes': ['*'], 'similarityMetric': 'JACCARD'}>], summary=<neo4j._work.summary.ResultSummary object at 0x000002057DBB4D70>, keys=['preProcessingMillis', 'computeMillis', 'mutateMillis', 'postProcessingMillis', 'relationshipsWritten', 'nodesCompared', 'similarityDistribution', 'configuration'])"
      ]
     },
     "execution_count": 57,
     "metadata": {},
     "output_type": "execute_result"
    }
   ],
   "source": [
    "driver.execute_query(step10)"
   ]
  },
  {
   "cell_type": "markdown",
   "id": "b8592534",
   "metadata": {},
   "source": [
    "# Step 11\n"
   ]
  },
  {
   "cell_type": "code",
   "execution_count": 1,
   "id": "c2b5ed09",
   "metadata": {},
   "outputs": [],
   "source": [
    "step11 = \"\"\"\n",
    "CALL gds.graph.writeRelationship(\n",
    "    'similarity',           \n",
    "    'SIMILAR_TO',          \n",
    "    'jaccardScore'       \n",
    ")\n",
    "YIELD\n",
    "    writeMillis,\n",
    "    graphName, \n",
    "    relationshipType,\n",
    "    relationshipsWritten,\n",
    "    relationshipProperty,\n",
    "    propertiesWritten;\n",
    "\"\"\""
   ]
  },
  {
   "cell_type": "code",
   "execution_count": 2,
   "id": "ee34d3a3",
   "metadata": {},
   "outputs": [
    {
     "ename": "NameError",
     "evalue": "name 'driver' is not defined",
     "output_type": "error",
     "traceback": [
      "\u001b[1;31m---------------------------------------------------------------------------\u001b[0m",
      "\u001b[1;31mNameError\u001b[0m                                 Traceback (most recent call last)",
      "Cell \u001b[1;32mIn[2], line 1\u001b[0m\n\u001b[1;32m----> 1\u001b[0m driver\u001b[38;5;241m.\u001b[39mexecute_query(step11)\n",
      "\u001b[1;31mNameError\u001b[0m: name 'driver' is not defined"
     ]
    }
   ],
   "source": [
    "driver.execute_query(step11)"
   ]
  },
  {
   "cell_type": "markdown",
   "id": "7669d1ae",
   "metadata": {},
   "source": [
    "# Step 12"
   ]
  },
  {
   "cell_type": "code",
   "execution_count": 58,
   "id": "0d3e8b55",
   "metadata": {},
   "outputs": [],
   "source": [
    "step12 = \"\"\"\n",
    "CALL gds.degree.write(\n",
    "    'similarity',\n",
    "    {\n",
    "        nodeLabels: ['Client'],\n",
    "        relationshipTypes: ['SIMILAR_TO'],\n",
    "        relationshipWeightProperty: 'jaccardScore',\n",
    "        writeProperty: 'secondPartyFraudScore'\n",
    "    }\n",
    ")\n",
    "YIELD\n",
    "    nodePropertiesWritten,\n",
    "    centralityDistribution,\n",
    "    configuration\n",
    "\"\"\""
   ]
  },
  {
   "cell_type": "code",
   "execution_count": 59,
   "id": "881f94e9",
   "metadata": {},
   "outputs": [
    {
     "data": {
      "text/plain": [
       "EagerResult(records=[<Record nodePropertiesWritten=336 centralityDistribution={'min': 0.19999980926513672, 'max': 3.500015258789062, 'p90': 2.500014305114746, 'p999': 3.500014305114746, 'p99': 3.1000051498413086, 'p50': 1.4000005722045898, 'p75': 2.000014305114746, 'p95': 2.800002098083496, 'mean': 1.5125004393713815} configuration={'writeProperty': 'secondPartyFraudScore', 'orientation': 'NATURAL', 'jobId': 'fd4bcb92-caad-46a2-8b52-a6455aa87ac2', 'logProgress': True, 'relationshipWeightProperty': 'jaccardScore', 'nodeLabels': ['Client'], 'relationshipTypes': ['SIMILAR_TO'], 'concurrency': 4, 'sudo': False, 'writeToResultStore': False, 'writeConcurrency': 4}>], summary=<neo4j._work.summary.ResultSummary object at 0x000002057DBB5070>, keys=['nodePropertiesWritten', 'centralityDistribution', 'configuration'])"
      ]
     },
     "execution_count": 59,
     "metadata": {},
     "output_type": "execute_result"
    }
   ],
   "source": [
    "driver.execute_query(step12)"
   ]
  },
  {
   "cell_type": "markdown",
   "id": "950770df",
   "metadata": {},
   "source": [
    "# Step 13"
   ]
  },
  {
   "cell_type": "code",
   "execution_count": 60,
   "id": "6df73cf6",
   "metadata": {},
   "outputs": [],
   "source": [
    "step13 = \"\"\"\n",
    "MATCH (c:Client)\n",
    "WHERE c.secondPartyFraudScore IS NOT NULL\n",
    "WITH percentileCont(c.secondPartyFraudScore, 0.95) AS threshold\n",
    "MATCH (c:Client)\n",
    "WHERE c.secondPartyFraudScore > threshold\n",
    "SET c:SecondPartyFraudster\n",
    "SET c.isSecondPartyFraudster = true\n",
    "RETURN count(c) as fraudsters, threshold\n",
    "\"\"\""
   ]
  },
  {
   "cell_type": "code",
   "execution_count": 61,
   "id": "5f8177e5",
   "metadata": {},
   "outputs": [
    {
     "data": {
      "text/plain": [
       "EagerResult(records=[<Record fraudsters=17 threshold=2.7250000000000005>], summary=<neo4j._work.summary.ResultSummary object at 0x000002057DAB1340>, keys=['fraudsters', 'threshold'])"
      ]
     },
     "execution_count": 61,
     "metadata": {},
     "output_type": "execute_result"
    }
   ],
   "source": [
    "driver.execute_query(step13)"
   ]
  },
  {
   "cell_type": "markdown",
   "id": "8d8168b1",
   "metadata": {},
   "source": [
    "# Step 14"
   ]
  },
  {
   "cell_type": "code",
   "execution_count": 69,
   "id": "2fba4baf",
   "metadata": {},
   "outputs": [
    {
     "data": {
      "text/html": [
       "<div>\n",
       "<style scoped>\n",
       "    .dataframe tbody tr th:only-of-type {\n",
       "        vertical-align: middle;\n",
       "    }\n",
       "\n",
       "    .dataframe tbody tr th {\n",
       "        vertical-align: top;\n",
       "    }\n",
       "\n",
       "    .dataframe thead th {\n",
       "        text-align: right;\n",
       "    }\n",
       "</style>\n",
       "<table border=\"1\" class=\"dataframe\">\n",
       "  <thead>\n",
       "    <tr style=\"text-align: right;\">\n",
       "      <th></th>\n",
       "      <th>client_name</th>\n",
       "      <th>client_id</th>\n",
       "    </tr>\n",
       "  </thead>\n",
       "  <tbody>\n",
       "    <tr>\n",
       "      <th>0</th>\n",
       "      <td>Brooklyn Harrison</td>\n",
       "      <td>4029043591201321</td>\n",
       "    </tr>\n",
       "    <tr>\n",
       "      <th>1</th>\n",
       "      <td>Aiden Hurst</td>\n",
       "      <td>4583937317122539</td>\n",
       "    </tr>\n",
       "    <tr>\n",
       "      <th>2</th>\n",
       "      <td>Sarah Klein</td>\n",
       "      <td>4912587051525728</td>\n",
       "    </tr>\n",
       "    <tr>\n",
       "      <th>3</th>\n",
       "      <td>Kennedy Keith</td>\n",
       "      <td>4446118457512030</td>\n",
       "    </tr>\n",
       "    <tr>\n",
       "      <th>4</th>\n",
       "      <td>Samantha Mueller</td>\n",
       "      <td>4717521340444448</td>\n",
       "    </tr>\n",
       "    <tr>\n",
       "      <th>5</th>\n",
       "      <td>Benjamin Moss</td>\n",
       "      <td>4189330002136246</td>\n",
       "    </tr>\n",
       "    <tr>\n",
       "      <th>6</th>\n",
       "      <td>Charlotte Foster</td>\n",
       "      <td>4024985944102082</td>\n",
       "    </tr>\n",
       "    <tr>\n",
       "      <th>7</th>\n",
       "      <td>Ryan Patel</td>\n",
       "      <td>4614177132519923</td>\n",
       "    </tr>\n",
       "    <tr>\n",
       "      <th>8</th>\n",
       "      <td>Landon Welch</td>\n",
       "      <td>4359490519123048</td>\n",
       "    </tr>\n",
       "    <tr>\n",
       "      <th>9</th>\n",
       "      <td>Allison Alvarez</td>\n",
       "      <td>4371660075922934</td>\n",
       "    </tr>\n",
       "    <tr>\n",
       "      <th>10</th>\n",
       "      <td>Madeline Ramos</td>\n",
       "      <td>4818802026065667</td>\n",
       "    </tr>\n",
       "    <tr>\n",
       "      <th>11</th>\n",
       "      <td>Gabriel Oliver</td>\n",
       "      <td>4385217169131833</td>\n",
       "    </tr>\n",
       "    <tr>\n",
       "      <th>12</th>\n",
       "      <td>Scarlett Solomon</td>\n",
       "      <td>4830783673717400</td>\n",
       "    </tr>\n",
       "    <tr>\n",
       "      <th>13</th>\n",
       "      <td>Julia Ortega</td>\n",
       "      <td>4632977841783696</td>\n",
       "    </tr>\n",
       "    <tr>\n",
       "      <th>14</th>\n",
       "      <td>Jose Roberson</td>\n",
       "      <td>4268433407129628</td>\n",
       "    </tr>\n",
       "    <tr>\n",
       "      <th>15</th>\n",
       "      <td>Aaliyah Thornton</td>\n",
       "      <td>4934732209995365</td>\n",
       "    </tr>\n",
       "    <tr>\n",
       "      <th>16</th>\n",
       "      <td>Emily Stout</td>\n",
       "      <td>4748268948389491</td>\n",
       "    </tr>\n",
       "  </tbody>\n",
       "</table>\n",
       "</div>"
      ],
      "text/plain": [
       "          client_name         client_id\n",
       "0   Brooklyn Harrison  4029043591201321\n",
       "1         Aiden Hurst  4583937317122539\n",
       "2         Sarah Klein  4912587051525728\n",
       "3       Kennedy Keith  4446118457512030\n",
       "4    Samantha Mueller  4717521340444448\n",
       "5       Benjamin Moss  4189330002136246\n",
       "6    Charlotte Foster  4024985944102082\n",
       "7          Ryan Patel  4614177132519923\n",
       "8        Landon Welch  4359490519123048\n",
       "9     Allison Alvarez  4371660075922934\n",
       "10     Madeline Ramos  4818802026065667\n",
       "11     Gabriel Oliver  4385217169131833\n",
       "12   Scarlett Solomon  4830783673717400\n",
       "13       Julia Ortega  4632977841783696\n",
       "14      Jose Roberson  4268433407129628\n",
       "15   Aaliyah Thornton  4934732209995365\n",
       "16        Emily Stout  4748268948389491"
      ]
     },
     "execution_count": 69,
     "metadata": {},
     "output_type": "execute_result"
    }
   ],
   "source": [
    "def run_14(driver):\n",
    "    step14 = \"\"\"\n",
    "    MATCH (c:Client)\n",
    "    WHERE c:SecondPartyFraudster\n",
    "    RETURN c.name as client_name, c.id as client_id\n",
    "    \"\"\"\n",
    "    with driver.session() as session:\n",
    "        result = session.run(step14)\n",
    "\n",
    "        records = result.data() \n",
    "        df = pd.DataFrame(records)\n",
    "\n",
    "    return df\n",
    "\n",
    "pd_df = run_14(driver)\n",
    "pd_df"
   ]
  }
 ],
 "metadata": {
  "kernelspec": {
   "display_name": "base",
   "language": "python",
   "name": "python3"
  },
  "language_info": {
   "codemirror_mode": {
    "name": "ipython",
    "version": 3
   },
   "file_extension": ".py",
   "mimetype": "text/x-python",
   "name": "python",
   "nbconvert_exporter": "python",
   "pygments_lexer": "ipython3",
   "version": "3.12.7"
  }
 },
 "nbformat": 4,
 "nbformat_minor": 5
}
