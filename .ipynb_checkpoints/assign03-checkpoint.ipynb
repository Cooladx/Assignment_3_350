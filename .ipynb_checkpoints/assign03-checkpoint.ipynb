{
 "cells": [
  {
   "cell_type": "markdown",
   "id": "6298b990-4218-4b3f-9b79-18f61393ba8f",
   "metadata": {},
   "source": [
    "# Create an empty project in Neo4j desktop with an empty DB in the project, then start it.\n",
    "## Add the AAPOC and GDS plugins in your desktop Neo4j project."
   ]
  },
  {
   "cell_type": "markdown",
   "id": "594d3f75-aeb7-46a7-9696-519c16b495d0",
   "metadata": {},
   "source": [
    "## Steps 1-4 | be sure to change PORT for URI and PASSWORD for AUTH!"
   ]
  },
  {
   "cell_type": "code",
   "execution_count": 1,
   "id": "caee03ef-021b-42c8-8367-ca7e0a22fdcb",
   "metadata": {},
   "outputs": [],
   "source": [
    "import pandas as pd"
   ]
  },
  {
   "cell_type": "code",
   "execution_count": 2,
   "id": "1a2ed793-6578-404e-8cf5-6f0940923d3a",
   "metadata": {},
   "outputs": [],
   "source": [
    "from neo4j import GraphDatabase"
   ]
  },
  {
   "cell_type": "code",
   "execution_count": 3,
   "id": "232823dd-82aa-4612-9842-6b7681d8cd3c",
   "metadata": {},
   "outputs": [],
   "source": [
    "NEO4J_URI = \"bolt://localhost:7687\""
   ]
  },
  {
   "cell_type": "code",
   "execution_count": 4,
   "id": "bdd7e4a0-9dd8-4f19-954e-a6af9cf6d2b2",
   "metadata": {},
   "outputs": [],
   "source": [
    "NEO4J_AUTH = ( \"neo4j\",  \"\")"
   ]
  },
  {
   "cell_type": "code",
   "execution_count": 5,
   "id": "9c093ccd-85a7-46ef-b715-0fbf9c291702",
   "metadata": {},
   "outputs": [],
   "source": [
    "driver = GraphDatabase.driver(NEO4J_URI, auth=NEO4J_AUTH)"
   ]
  },
  {
   "cell_type": "markdown",
   "id": "5bb2866a",
   "metadata": {},
   "source": [
    "## Step 5: SHARED_PII relationship"
   ]
  },
  {
   "cell_type": "code",
   "execution_count": 6,
   "id": "2b6070b7",
   "metadata": {},
   "outputs": [],
   "source": [
    "query = \"\"\"\n",
    "MATCH ( c:Client )-[ :HAS_EMAIL |:HAS_PHONE |:HAS_SSN ] -> (n) <- [ :HAS_EMAIL |:HAS_PHONE |:HAS_SSN ]- ( d:Client )\n",
    "WHERE id(c) < id(d)\n",
    "WITH c, d, count(*) AS cnt\n",
    "MERGE (c) - [ :SHARED_PII { count: cnt } ] -> (d)\n",
    "\"\"\""
   ]
  },
  {
   "cell_type": "code",
   "execution_count": 7,
   "id": "56c236ab",
   "metadata": {},
   "outputs": [
    {
     "name": "stderr",
     "output_type": "stream",
     "text": [
      "Received notification from DBMS server: {severity: WARNING} {code: Neo.ClientNotification.Statement.FeatureDeprecationWarning} {category: DEPRECATION} {title: This feature is deprecated and will be removed in future versions.} {description: The semantics of using colon in the separation of alternative relationship types will change in a future version. (Please use ':HAS_EMAIL|HAS_PHONE|HAS_SSN' instead)} {position: line: 2, column: 45, offset: 45} for query: '\\nMATCH ( c:Client )-[ :HAS_EMAIL |:HAS_PHONE |:HAS_SSN ] -> (n) <- [ :HAS_EMAIL |:HAS_PHONE |:HAS_SSN ]- ( d:Client )\\nWHERE id(c) < id(d)\\nWITH c, d, count(*) AS cnt\\nMERGE (c) - [ :SHARED_PII { count: cnt } ] -> (d)\\n'\n",
      "Received notification from DBMS server: {severity: WARNING} {code: Neo.ClientNotification.Statement.FeatureDeprecationWarning} {category: DEPRECATION} {title: This feature is deprecated and will be removed in future versions.} {description: The semantics of using colon in the separation of alternative relationship types will change in a future version. (Please use ':HAS_EMAIL|HAS_PHONE|HAS_SSN' instead)} {position: line: 2, column: 92, offset: 92} for query: '\\nMATCH ( c:Client )-[ :HAS_EMAIL |:HAS_PHONE |:HAS_SSN ] -> (n) <- [ :HAS_EMAIL |:HAS_PHONE |:HAS_SSN ]- ( d:Client )\\nWHERE id(c) < id(d)\\nWITH c, d, count(*) AS cnt\\nMERGE (c) - [ :SHARED_PII { count: cnt } ] -> (d)\\n'\n",
      "Received notification from DBMS server: {severity: WARNING} {code: Neo.ClientNotification.Statement.FeatureDeprecationWarning} {category: DEPRECATION} {title: This feature is deprecated and will be removed in future versions.} {description: The query used a deprecated function: `id`.} {position: line: 3, column: 7, offset: 124} for query: '\\nMATCH ( c:Client )-[ :HAS_EMAIL |:HAS_PHONE |:HAS_SSN ] -> (n) <- [ :HAS_EMAIL |:HAS_PHONE |:HAS_SSN ]- ( d:Client )\\nWHERE id(c) < id(d)\\nWITH c, d, count(*) AS cnt\\nMERGE (c) - [ :SHARED_PII { count: cnt } ] -> (d)\\n'\n",
      "Received notification from DBMS server: {severity: WARNING} {code: Neo.ClientNotification.Statement.FeatureDeprecationWarning} {category: DEPRECATION} {title: This feature is deprecated and will be removed in future versions.} {description: The query used a deprecated function: `id`.} {position: line: 3, column: 15, offset: 132} for query: '\\nMATCH ( c:Client )-[ :HAS_EMAIL |:HAS_PHONE |:HAS_SSN ] -> (n) <- [ :HAS_EMAIL |:HAS_PHONE |:HAS_SSN ]- ( d:Client )\\nWHERE id(c) < id(d)\\nWITH c, d, count(*) AS cnt\\nMERGE (c) - [ :SHARED_PII { count: cnt } ] -> (d)\\n'\n"
     ]
    },
    {
     "data": {
      "text/plain": [
       "EagerResult(records=[], summary=<neo4j._work.summary.ResultSummary object at 0x000001BBA1DB6F00>, keys=[])"
      ]
     },
     "execution_count": 7,
     "metadata": {},
     "output_type": "execute_result"
    }
   ],
   "source": [
    "driver.execute_query(query)"
   ]
  },
  {
   "cell_type": "markdown",
   "id": "c2598063",
   "metadata": {},
   "source": [
    "## Step 6: clientClusters projection\n"
   ]
  },
  {
   "cell_type": "code",
   "execution_count": 10,
   "id": "a656e8f6",
   "metadata": {},
   "outputs": [],
   "source": [
    "query2 = \"\"\"\n",
    "CALL gds.graph.project('clientClusters' , { \n",
    "    Client: {\n",
    "        label: 'Client' \n",
    "    }\n",
    "}, { \n",
    "    SHARED_PII: {\n",
    "        type: 'SHARED_PII',\n",
    "        orientation: 'UNDIRECTED',\n",
    "        properties: {\n",
    "            count: {\n",
    "                property: 'count' \n",
    "            }\n",
    "        }\n",
    "    }\n",
    "}\n",
    ")\n",
    "YIELD graphName, nodeCount, relationshipCount\n",
    "\"\"\"\n"
   ]
  },
  {
   "cell_type": "code",
   "execution_count": 11,
   "id": "541bec7a",
   "metadata": {},
   "outputs": [
    {
     "data": {
      "text/plain": [
       "EagerResult(records=[<Record graphName='clientClusters' nodeCount=2433 relationshipCount=1518>], summary=<neo4j._work.summary.ResultSummary object at 0x000001BBA3C6A180>, keys=['graphName', 'nodeCount', 'relationshipCount'])"
      ]
     },
     "execution_count": 11,
     "metadata": {},
     "output_type": "execute_result"
    }
   ],
   "source": [
    "driver.execute_query(query2)"
   ]
  },
  {
   "cell_type": "markdown",
   "id": "6ffb9c9d",
   "metadata": {},
   "source": [
    "## Step 7: Identify clusters"
   ]
  },
  {
   "cell_type": "code",
   "execution_count": 12,
   "id": "5ad90590",
   "metadata": {},
   "outputs": [],
   "source": [
    "def run_wcc_query(driver):\n",
    "    query3 = \"\"\"\n",
    "    CALL gds.wcc.stream(\n",
    "      'clientClusters', \n",
    "      {\n",
    "        nodeLabels: ['Client'], \n",
    "        relationshipTypes: ['SHARED_PII'], \n",
    "        consecutiveIds: true\n",
    "      }\n",
    "    )\n",
    "    YIELD nodeId, componentId \n",
    "    RETURN gds.util.asNode(nodeId).id AS clientId,\n",
    "    componentId AS clusterId\"\"\"\n",
    "\n",
    "    with driver.session() as session:\n",
    "        result = session.run(query3)\n",
    "\n",
    "        records = result.data() \n",
    "        df = pd.DataFrame(records)\n",
    "\n",
    "    return df\n",
    "    "
   ]
  },
  {
   "cell_type": "code",
   "execution_count": 13,
   "id": "227747ab",
   "metadata": {},
   "outputs": [],
   "source": [
    "pd_df = run_wcc_query(driver)"
   ]
  },
  {
   "cell_type": "code",
   "execution_count": 14,
   "id": "d215b1da",
   "metadata": {},
   "outputs": [],
   "source": [
    "pd.set_option('display.max_columns', 2)"
   ]
  },
  {
   "cell_type": "code",
   "execution_count": 15,
   "id": "4088fb33",
   "metadata": {},
   "outputs": [
    {
     "data": {
      "text/html": [
       "<div>\n",
       "<style scoped>\n",
       "    .dataframe tbody tr th:only-of-type {\n",
       "        vertical-align: middle;\n",
       "    }\n",
       "\n",
       "    .dataframe tbody tr th {\n",
       "        vertical-align: top;\n",
       "    }\n",
       "\n",
       "    .dataframe thead th {\n",
       "        text-align: right;\n",
       "    }\n",
       "</style>\n",
       "<table border=\"1\" class=\"dataframe\">\n",
       "  <thead>\n",
       "    <tr style=\"text-align: right;\">\n",
       "      <th></th>\n",
       "      <th>clientId</th>\n",
       "      <th>clusterId</th>\n",
       "    </tr>\n",
       "  </thead>\n",
       "  <tbody>\n",
       "    <tr>\n",
       "      <th>0</th>\n",
       "      <td>4997933060327094</td>\n",
       "      <td>0</td>\n",
       "    </tr>\n",
       "    <tr>\n",
       "      <th>1</th>\n",
       "      <td>4776276949898423</td>\n",
       "      <td>1</td>\n",
       "    </tr>\n",
       "    <tr>\n",
       "      <th>2</th>\n",
       "      <td>4858607188760216</td>\n",
       "      <td>2</td>\n",
       "    </tr>\n",
       "    <tr>\n",
       "      <th>3</th>\n",
       "      <td>4287186486553145</td>\n",
       "      <td>3</td>\n",
       "    </tr>\n",
       "    <tr>\n",
       "      <th>4</th>\n",
       "      <td>4661202154682409</td>\n",
       "      <td>4</td>\n",
       "    </tr>\n",
       "    <tr>\n",
       "      <th>...</th>\n",
       "      <td>...</td>\n",
       "      <td>...</td>\n",
       "    </tr>\n",
       "    <tr>\n",
       "      <th>2428</th>\n",
       "      <td>4413385955087620</td>\n",
       "      <td>1767</td>\n",
       "    </tr>\n",
       "    <tr>\n",
       "      <th>2429</th>\n",
       "      <td>4550448544478545</td>\n",
       "      <td>1862</td>\n",
       "    </tr>\n",
       "    <tr>\n",
       "      <th>2430</th>\n",
       "      <td>4114683318919154</td>\n",
       "      <td>334</td>\n",
       "    </tr>\n",
       "    <tr>\n",
       "      <th>2431</th>\n",
       "      <td>4172817689754167</td>\n",
       "      <td>2113</td>\n",
       "    </tr>\n",
       "    <tr>\n",
       "      <th>2432</th>\n",
       "      <td>4210575070378533</td>\n",
       "      <td>2131</td>\n",
       "    </tr>\n",
       "  </tbody>\n",
       "</table>\n",
       "<p>2433 rows × 2 columns</p>\n",
       "</div>"
      ],
      "text/plain": [
       "              clientId  clusterId\n",
       "0     4997933060327094          0\n",
       "1     4776276949898423          1\n",
       "2     4858607188760216          2\n",
       "3     4287186486553145          3\n",
       "4     4661202154682409          4\n",
       "...                ...        ...\n",
       "2428  4413385955087620       1767\n",
       "2429  4550448544478545       1862\n",
       "2430  4114683318919154        334\n",
       "2431  4172817689754167       2113\n",
       "2432  4210575070378533       2131\n",
       "\n",
       "[2433 rows x 2 columns]"
      ]
     },
     "execution_count": 15,
     "metadata": {},
     "output_type": "execute_result"
    }
   ],
   "source": [
    "pd_df"
   ]
  },
  {
   "cell_type": "markdown",
   "id": "0860420a",
   "metadata": {},
   "source": [
    "## Step 8: Marking Clients"
   ]
  },
  {
   "cell_type": "code",
   "execution_count": 16,
   "id": "01cd569e",
   "metadata": {},
   "outputs": [],
   "source": [
    "\n",
    "query4 = \"\"\"\n",
    "    CALL gds.wcc.stream(\n",
    "      'clientClusters', \n",
    "      {\n",
    "        nodeLabels: ['Client'], \n",
    "        relationshipTypes: ['SHARED_PII'], \n",
    "        consecutiveIds: true\n",
    "      }\n",
    "    )\n",
    "    YIELD nodeId, componentId\n",
    "    WITH gds.util.asNode(nodeId) AS client, componentId AS clusterId\n",
    "    WITH clusterId, collect(client.id) AS clients\n",
    "    WITH clusterId, clients, size(clients) AS clusterSize \n",
    "    WHERE clusterSize >= 2\n",
    "    UNWIND clients AS client\n",
    "    MATCH (c:Client {id: client})  // Assuming 'id' property here matches\n",
    "    SET c.secondPartyFraudRing = clusterId\n",
    "    \"\"\"\n"
   ]
  },
  {
   "cell_type": "code",
   "execution_count": 17,
   "id": "c7bc08ea",
   "metadata": {},
   "outputs": [
    {
     "data": {
      "text/plain": [
       "EagerResult(records=[], summary=<neo4j._work.summary.ResultSummary object at 0x000001BBA3C94EC0>, keys=[])"
      ]
     },
     "execution_count": 17,
     "metadata": {},
     "output_type": "execute_result"
    }
   ],
   "source": [
    "driver.execute_query(query4)"
   ]
  },
  {
   "cell_type": "markdown",
   "id": "dec16f68",
   "metadata": {},
   "source": [
    "## Step 9: Bipartite Graph"
   ]
  },
  {
   "cell_type": "code",
   "execution_count": 20,
   "id": "3278e8ef",
   "metadata": {},
   "outputs": [],
   "source": [
    "query5 = \"\"\"\n",
    "// first, find clients\n",
    "MATCH (c:Client) WHERE c.secondPartyFraudRing is NOT NULL\n",
    "WITH collect(c) as clients\n",
    "\n",
    "// second, find the PII nodes\n",
    "MATCH (n) WHERE n:Email OR n:Phone OR n:SSN\n",
    "\n",
    "// combine the two sets of nodes\n",
    "WITH clients, collect(n) AS piis\n",
    "WITH clients + piis AS nodes\n",
    "\n",
    "// use only the clients that belong to a cluster of size >= 2\n",
    "// as per STEP 8\n",
    "MATCH (c:Client) -[:HAS_EMAIL | :HAS_PHONE | :HAS_SSN]->(p)\n",
    "WHERE c.secondPartyFraudRing is NOT NULL\n",
    "\n",
    "// now make the bipartite graph,\n",
    "// with a new relationship named HAS_PII\n",
    "WITH nodes, collect({source: c, target: p}) as relationships\n",
    "\n",
    "// use a Cypher projection\n",
    "// not the usual native projection\n",
    "CALL gds.graph.project.cypher(\n",
    "'similarity',\n",
    "\"UNWIND $nodes as n\n",
    "RETURN id(n) AS id,labels(n) AS labels\",\n",
    "\"UNWIND $relationships as r\n",
    "RETURN id(r['source']) AS source, id(r['target']) AS target,\n",
    "'HAS_PII' as type\",\n",
    "{ parameters:\n",
    "{ nodes: nodes,\n",
    "relationships: relationships }\n",
    "}\n",
    ")\n",
    "YIELD graphName, nodeCount, relationshipCount\n",
    "RETURN graphName, nodeCount, relationshipCount\n",
    "\"\"\""
   ]
  },
  {
   "cell_type": "code",
   "execution_count": 21,
   "id": "385a4d5d",
   "metadata": {},
   "outputs": [
    {
     "name": "stderr",
     "output_type": "stream",
     "text": [
      "Received notification from DBMS server: {severity: WARNING} {code: Neo.ClientNotification.Statement.FeatureDeprecationWarning} {category: DEPRECATION} {title: This feature is deprecated and will be removed in future versions.} {description: The semantics of using colon in the separation of alternative relationship types will change in a future version. (Please use ':HAS_EMAIL|HAS_PHONE|HAS_SSN' instead)} {position: line: 15, column: 44, offset: 403} for query: '\\n// first, find clients\\nMATCH (c:Client) WHERE c.secondPartyFraudRing is NOT NULL\\nWITH collect(c) as clients\\n\\n// second, find the PII nodes\\nMATCH (n) WHERE n:Email OR n:Phone OR n:SSN\\n\\n// combine the two sets of nodes\\nWITH clients, collect(n) AS piis\\nWITH clients + piis AS nodes\\n\\n// use only the clients that belong to a cluster of size >= 2\\n// as per STEP 8\\nMATCH (c:Client) -[:HAS_EMAIL | :HAS_PHONE | :HAS_SSN]->(p)\\nWHERE c.secondPartyFraudRing is NOT NULL\\n\\n// now make the bipartite graph,\\n// with a new relationship named HAS_PII\\nWITH nodes, collect({source: c, target: p}) as relationships\\n\\n// use a Cypher projection\\n// not the usual native projection\\nCALL gds.graph.project.cypher(\\n\\'similarity\\',\\n\"UNWIND $nodes as n\\nRETURN id(n) AS id,labels(n) AS labels\",\\n\"UNWIND $relationships as r\\nRETURN id(r[\\'source\\']) AS source, id(r[\\'target\\']) AS target,\\n\\'HAS_PII\\' as type\",\\n{ parameters:\\n{ nodes: nodes,\\nrelationships: relationships }\\n}\\n)\\nYIELD graphName, nodeCount, relationshipCount\\nRETURN graphName, nodeCount, relationshipCount\\n'\n",
      "Received notification from DBMS server: {severity: WARNING} {code: Neo.ClientNotification.Statement.FeatureDeprecationWarning} {category: DEPRECATION} {title: This feature is deprecated and will be removed in future versions.} {description: The query used a deprecated procedure. ('gds.graph.project.cypher' has been replaced by 'gds.graph.project Cypher projection as an aggregation function')} {position: line: 24, column: 1, offset: 660} for query: '\\n// first, find clients\\nMATCH (c:Client) WHERE c.secondPartyFraudRing is NOT NULL\\nWITH collect(c) as clients\\n\\n// second, find the PII nodes\\nMATCH (n) WHERE n:Email OR n:Phone OR n:SSN\\n\\n// combine the two sets of nodes\\nWITH clients, collect(n) AS piis\\nWITH clients + piis AS nodes\\n\\n// use only the clients that belong to a cluster of size >= 2\\n// as per STEP 8\\nMATCH (c:Client) -[:HAS_EMAIL | :HAS_PHONE | :HAS_SSN]->(p)\\nWHERE c.secondPartyFraudRing is NOT NULL\\n\\n// now make the bipartite graph,\\n// with a new relationship named HAS_PII\\nWITH nodes, collect({source: c, target: p}) as relationships\\n\\n// use a Cypher projection\\n// not the usual native projection\\nCALL gds.graph.project.cypher(\\n\\'similarity\\',\\n\"UNWIND $nodes as n\\nRETURN id(n) AS id,labels(n) AS labels\",\\n\"UNWIND $relationships as r\\nRETURN id(r[\\'source\\']) AS source, id(r[\\'target\\']) AS target,\\n\\'HAS_PII\\' as type\",\\n{ parameters:\\n{ nodes: nodes,\\nrelationships: relationships }\\n}\\n)\\nYIELD graphName, nodeCount, relationshipCount\\nRETURN graphName, nodeCount, relationshipCount\\n'\n"
     ]
    },
    {
     "data": {
      "text/plain": [
       "EagerResult(records=[<Record graphName='similarity' nodeCount=7037 relationshipCount=1008>], summary=<neo4j._work.summary.ResultSummary object at 0x000001BBA1E76F00>, keys=['graphName', 'nodeCount', 'relationshipCount'])"
      ]
     },
     "execution_count": 21,
     "metadata": {},
     "output_type": "execute_result"
    }
   ],
   "source": [
    "driver.execute_query(query5)"
   ]
  },
  {
   "cell_type": "markdown",
   "id": "c444c128",
   "metadata": {},
   "source": [
    "## Step 10: Creating the SIMILAR_TO Relationship"
   ]
  },
  {
   "cell_type": "code",
   "execution_count": 22,
   "id": "bf62905c",
   "metadata": {},
   "outputs": [],
   "source": [
    "step10 = \"\"\"\n",
    "CALL gds.nodeSimilarity.mutate(\n",
    "  'similarity',\n",
    "  {\n",
    "      mutateProperty: 'jaccardScore',\n",
    "      mutateRelationshipType: 'SIMILAR_TO',\n",
    "      topK: 15\n",
    "  }\n",
    ")\n",
    "YIELD\n",
    "  preProcessingMillis,\n",
    "  computeMillis,\n",
    "  mutateMillis,\n",
    "  postProcessingMillis,\n",
    "  relationshipsWritten,\n",
    "  nodesCompared,\n",
    "  similarityDistribution,\n",
    "  configuration\n",
    "\"\"\""
   ]
  },
  {
   "cell_type": "code",
   "execution_count": 23,
   "id": "f6a61f36",
   "metadata": {},
   "outputs": [
    {
     "data": {
      "text/plain": [
       "EagerResult(records=[<Record preProcessingMillis=0 computeMillis=16 mutateMillis=41 postProcessingMillis=0 relationshipsWritten=1518 nodesCompared=336 similarityDistribution={'min': 0.19999980926513672, 'p5': 0.19999980926513672, 'max': 1.000007629394531, 'p99': 1.0000066757202148, 'p1': 0.19999980926513672, 'p10': 0.19999980926513672, 'p90': 0.5000028610229492, 'p50': 0.19999980926513672, 'p25': 0.19999980926513672, 'p75': 0.5000028610229492, 'p95': 1.0000066757202148, 'mean': 0.3347832789062983, 'p100': 1.0000066757202148, 'stdDev': 0.20693545125522303} configuration={'mutateProperty': 'jaccardScore', 'jobId': 'cc539cc1-84f5-424d-83e1-b19cbaa3d32a', 'topN': 0, 'upperDegreeCutoff': 2147483647, 'topK': 15, 'similarityCutoff': 1e-42, 'sudo': False, 'degreeCutoff': 1, 'useComponents': False, 'mutateRelationshipType': 'SIMILAR_TO', 'bottomN': 0, 'bottomK': 10, 'logProgress': True, 'nodeLabels': ['*'], 'concurrency': 4, 'relationshipTypes': ['*'], 'similarityMetric': 'JACCARD'}>], summary=<neo4j._work.summary.ResultSummary object at 0x000001BBA3C972F0>, keys=['preProcessingMillis', 'computeMillis', 'mutateMillis', 'postProcessingMillis', 'relationshipsWritten', 'nodesCompared', 'similarityDistribution', 'configuration'])"
      ]
     },
     "execution_count": 23,
     "metadata": {},
     "output_type": "execute_result"
    }
   ],
   "source": [
    "driver.execute_query(step10)"
   ]
  },
  {
   "cell_type": "markdown",
   "id": "b8592534",
   "metadata": {},
   "source": [
    "# Step 11\n"
   ]
  },
  {
   "cell_type": "code",
   "execution_count": null,
   "id": "c2b5ed09",
   "metadata": {},
   "outputs": [],
   "source": [
    "step11 = \"\"\"\n",
    "CALL gds.graph.writeRelationship(\n",
    "    'similarity',\n",
    "    {\n",
    "        writeProperty: 'jaccardScore',\n",
    "        writeRelationshipType: 'SIMILAR_TO'\n",
    "    }\n",
    ");\n",
    "\"\"\""
   ]
  },
  {
   "cell_type": "code",
   "execution_count": null,
   "id": "ee34d3a3",
   "metadata": {},
   "outputs": [],
   "source": [
    "driver.execute_query(step11)"
   ]
  },
  {
   "cell_type": "markdown",
   "id": "7669d1ae",
   "metadata": {},
   "source": [
    "# Step 12"
   ]
  },
  {
   "cell_type": "code",
   "execution_count": null,
   "id": "0d3e8b55",
   "metadata": {},
   "outputs": [],
   "source": [
    "step12 = \"\"\"\n",
    "CALL gds.degree.write(\n",
    "    'similarity',\n",
    "    {\n",
    "        nodeLabels: ['Client'],\n",
    "        relationshipTypes: ['SIMILAR_TO'],\n",
    "        relationshipWeightProperty: 'jaccardScore',\n",
    "        writeProperty: 'secondPartyFraudScore'\n",
    "    }\n",
    ");\n",
    "\"\"\""
   ]
  },
  {
   "cell_type": "code",
   "execution_count": null,
   "id": "881f94e9",
   "metadata": {},
   "outputs": [],
   "source": [
    "driver.execute_query(step12)"
   ]
  },
  {
   "cell_type": "markdown",
   "id": "950770df",
   "metadata": {},
   "source": [
    "# Step 13"
   ]
  },
  {
   "cell_type": "code",
   "execution_count": null,
   "id": "6df73cf6",
   "metadata": {},
   "outputs": [],
   "source": [
    "step13 = \"\"\"\n",
    "MATCH (c:Client)\n",
    "WHERE c.secondPartyFraudScore IS NOT NULL\n",
    "WITH percentileCont(c.secondPartyFraudScore, 0.95) AS threshold\n",
    "MATCH (c:Client)\n",
    "WHERE c.secondPartyFraudScore > threshold\n",
    "SET c:SecondPartyFraudster;\n",
    "\"\"\""
   ]
  },
  {
   "cell_type": "code",
   "execution_count": null,
   "id": "5f8177e5",
   "metadata": {},
   "outputs": [],
   "source": [
    "driver.execute_query(step13)"
   ]
  },
  {
   "cell_type": "markdown",
   "id": "8d8168b1",
   "metadata": {},
   "source": [
    "# Step 14"
   ]
  },
  {
   "cell_type": "code",
   "execution_count": null,
   "id": "2fba4baf",
   "metadata": {},
   "outputs": [],
   "source": [
    "def run_wcc_query(driver):\n",
    "    step14 = \"\"\"    \n",
    "    MATCH (c:Client:SecondPartyFraudster)\n",
    "    RETURN c.id AS clientId, c.name AS clientName\n",
    "    \"\"\"\n",
    "    with driver.session() as session:\n",
    "        result = session.run(step14)\n",
    "\n",
    "        records = result.data() \n",
    "        df = pd.DataFrame(records)\n",
    "\n",
    "    return df"
   ]
  }
 ],
 "metadata": {
  "kernelspec": {
   "display_name": "Python 3 (ipykernel)",
   "language": "python",
   "name": "python3"
  },
  "language_info": {
   "codemirror_mode": {
    "name": "ipython",
    "version": 3
   },
   "file_extension": ".py",
   "mimetype": "text/x-python",
   "name": "python",
   "nbconvert_exporter": "python",
   "pygments_lexer": "ipython3",
   "version": "3.12.7"
  }
 },
 "nbformat": 4,
 "nbformat_minor": 5
}
